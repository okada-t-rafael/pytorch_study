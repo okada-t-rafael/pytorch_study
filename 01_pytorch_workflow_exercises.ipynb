{
  "nbformat": 4,
  "nbformat_minor": 0,
  "metadata": {
    "colab": {
      "provenance": [],
      "authorship_tag": "ABX9TyOmBPyl/iYzZ0ZS2GL0LLNq",
      "include_colab_link": true
    },
    "kernelspec": {
      "name": "python3",
      "display_name": "Python 3"
    },
    "language_info": {
      "name": "python"
    }
  },
  "cells": [
    {
      "cell_type": "markdown",
      "metadata": {
        "id": "view-in-github",
        "colab_type": "text"
      },
      "source": [
        "<a href=\"https://colab.research.google.com/github/okada-t-rafael/pytorch_study/blob/master/01_pytorch_workflow_exercises.ipynb\" target=\"_parent\"><img src=\"https://colab.research.google.com/assets/colab-badge.svg\" alt=\"Open In Colab\"/></a>"
      ]
    },
    {
      "cell_type": "code",
      "source": [
        "# Import PyTorch and matplotlib\n",
        "import matplotlib.pyplot as plt\n",
        "import torch\n",
        "\n",
        "from torch import nn\n",
        "\n",
        "# Check PyTorch version\n",
        "torch.__version__"
      ],
      "metadata": {
        "colab": {
          "base_uri": "https://localhost:8080/",
          "height": 35
        },
        "id": "3sHGs74Mz_vz",
        "outputId": "59ca99fb-4678-4d9a-86b8-a66725ad0a6c"
      },
      "execution_count": 1,
      "outputs": [
        {
          "output_type": "execute_result",
          "data": {
            "text/plain": [
              "'2.0.1+cu118'"
            ],
            "application/vnd.google.colaboratory.intrinsic+json": {
              "type": "string"
            }
          },
          "metadata": {},
          "execution_count": 1
        }
      ]
    },
    {
      "cell_type": "code",
      "source": [
        "if torch.cuda.is_available():\n",
        "    !nvidia-smi"
      ],
      "metadata": {
        "id": "RGP0_tQf-DN7"
      },
      "execution_count": 2,
      "outputs": []
    },
    {
      "cell_type": "code",
      "source": [
        "# Setup device agnostic code\n",
        "device = \"cuda\" if torch.cuda.is_available() else \"cpu\"\n",
        "print(f\"Using device: {device}\")"
      ],
      "metadata": {
        "colab": {
          "base_uri": "https://localhost:8080/"
        },
        "id": "4nYmJvTr96iZ",
        "outputId": "993addd8-aec4-40f5-cc60-985012897ec2"
      },
      "execution_count": 3,
      "outputs": [
        {
          "output_type": "stream",
          "name": "stdout",
          "text": [
            "Using device: cpu\n"
          ]
        }
      ]
    },
    {
      "cell_type": "markdown",
      "source": [
        "# Exercise 1\n",
        "Create a straight line dataset using the linear regression formula (`weight * X + bias`).\n",
        "* Set `weight=0.3` and `bias=0.9` there should be at least 100 datapoints total.\n",
        "* Split the data into 80% training, 20% testing.\n",
        "* Plot the training and testing data so it becomes visual.\n"
      ],
      "metadata": {
        "id": "1aJNe83Nw3VY"
      }
    },
    {
      "cell_type": "code",
      "source": [
        "# Setting weight and bias.\n",
        "weight = 0.3\n",
        "bias = 0.9"
      ],
      "metadata": {
        "id": "PZRVYeBAyb-e"
      },
      "execution_count": 4,
      "outputs": []
    },
    {
      "cell_type": "code",
      "source": [
        "# Setting X and y\n",
        "start = 0\n",
        "end = 1\n",
        "step = 0.01\n",
        "\n",
        "X = torch.arange(start, end, step).unsqueeze(dim=1)\n",
        "y = weight * X + bias + (torch.randn(size=(100, 1)) * 0.05)"
      ],
      "metadata": {
        "id": "IAh7M0Cjym-7"
      },
      "execution_count": 5,
      "outputs": []
    },
    {
      "cell_type": "code",
      "source": [
        "# Create train/test split\n",
        "train_split = int(len(X) * 0.8)\n",
        "X_train, y_train = X[:train_split], y[:train_split]\n",
        "X_test, y_test = X[train_split:], y[train_split:]"
      ],
      "metadata": {
        "id": "yhRItz5d0Qcy"
      },
      "execution_count": 6,
      "outputs": []
    },
    {
      "cell_type": "code",
      "source": [
        "# Plot datapoints\n",
        "plt.figure(figsize=(7, 4))\n",
        "plt.scatter(X_train, y_train[:train_split], c=\"b\", s=4, label=\"Training data\")\n",
        "plt.scatter(X_test, y_test, c=\"g\", s=4, label=\"Testing data\")\n",
        "plt.legend();"
      ],
      "metadata": {
        "colab": {
          "base_uri": "https://localhost:8080/",
          "height": 372
        },
        "id": "zh0gRIe-2Pqc",
        "outputId": "49c9f8ad-f703-4c6a-e2cc-9a55264c40dc"
      },
      "execution_count": 7,
      "outputs": [
        {
          "output_type": "display_data",
          "data": {
            "text/plain": [
              "<Figure size 700x400 with 1 Axes>"
            ],
            "image/png": "[encoded data removed]"
          },
          "metadata": {}
        }
      ]
    },
    {
      "cell_type": "code",
      "source": [
        "# Put data on the target device (device agnostic code for data)\n",
        "X_train = X_train.to(device)\n",
        "y_train = y_train.to(device)\n",
        "X_test = X_test.to(device)\n",
        "y_test = y_test.to(device)"
      ],
      "metadata": {
        "id": "LLBZ4dPS-Vkq"
      },
      "execution_count": 8,
      "outputs": []
    },
    {
      "cell_type": "markdown",
      "source": [
        "# Exercise 2\n",
        "Build a PyTorch model by subclassing nn.Module.\n",
        "* Inside should be a randomly initialized `nn.Parameter()` with `requires_grad=True`, one `weights` and one for `bias`.\n",
        "* Implement the `forward()` method to compute the linear regression function you used to create the dataset in 1.\n",
        "* Once you've constructed the model, make an instance of it and check its `state_dict()`.\n",
        "* **Note**: If you'd like to use `nn.Linear()` instead of `nn.Parameter()` you can."
      ],
      "metadata": {
        "id": "mNELNdnH2yov"
      }
    },
    {
      "cell_type": "code",
      "source": [
        "# Create a linear model by subclassing nn.Module\n",
        "class LinearRegressionModel(nn.Module):\n",
        "    def __init__(self):\n",
        "        super().__init__()\n",
        "        self.linear_layer = nn.Linear(in_features=1, out_features=1)\n",
        "\n",
        "    def forward(self, x: torch.tensor) -> torch.tensor:\n",
        "        return self.linear_layer(x)"
      ],
      "metadata": {
        "id": "6f3cXGur5x9L"
      },
      "execution_count": 9,
      "outputs": []
    },
    {
      "cell_type": "code",
      "source": [
        "# Set the manual seed\n",
        "torch.manual_seed(42)\n",
        "model = LinearRegressionModel()\n",
        "print(model.state_dict())\n",
        "\n",
        "# Put model on the target device\n",
        "model.to(device);"
      ],
      "metadata": {
        "colab": {
          "base_uri": "https://localhost:8080/"
        },
        "id": "eNqY2kSg6twh",
        "outputId": "659df1d1-0f4a-46c5-b419-e841665570b0"
      },
      "execution_count": 10,
      "outputs": [
        {
          "output_type": "stream",
          "name": "stdout",
          "text": [
            "OrderedDict([('linear_layer.weight', tensor([[0.7645]])), ('linear_layer.bias', tensor([0.8300]))])\n"
          ]
        }
      ]
    },
    {
      "cell_type": "markdown",
      "source": [
        "# Exercise 3\n",
        "Create a loss function and optimizer using `nn.L1Loss()` and `torch.optim.SGD()` respectively.\n",
        "* Set the learning rate of the optimizer to be 0.01 and the parameters to optimize should be the model parameters from the model you created in 2.\n",
        "* Write a training loop to perform the appropriate training steps for 300 epochs.\n",
        "* The training loop shoud test the model on the test database every 20 epochs."
      ],
      "metadata": {
        "id": "kQl_4Wdv62pt"
      }
    },
    {
      "cell_type": "code",
      "source": [
        "# Setup loss function\n",
        "loss_fn = nn.L1Loss()\n",
        "\n",
        "# Setup our optimizer\n",
        "optimizer = torch.optim.SGD(\n",
        "    params=model.parameters(),\n",
        "    lr=0.01)"
      ],
      "metadata": {
        "id": "t1cE9ehm9arF"
      },
      "execution_count": 11,
      "outputs": []
    },
    {
      "cell_type": "code",
      "source": [
        "# Train/test Loop\n",
        "torch.manual_seed(42)\n",
        "epochs = 400\n",
        "\n",
        "for epoch in range(epochs):\n",
        "    model.train()\n",
        "\n",
        "    # Forward pass\n",
        "    train_preds = model(X_train)\n",
        "\n",
        "    # Loss calculation\n",
        "    loss = loss_fn(train_preds, y_train)\n",
        "\n",
        "    # Optimizer zero grad\n",
        "    optimizer.zero_grad()\n",
        "\n",
        "    # Backpropagation\n",
        "    loss.backward()\n",
        "\n",
        "    # Optimizer step\n",
        "    optimizer.step()\n",
        "\n",
        "    # Testing\n",
        "    model.eval()\n",
        "    with torch.inference_mode():\n",
        "        test_preds = model(X_test)\n",
        "        test_loss = loss_fn(test_preds, y_test)\n",
        "\n",
        "    if epoch % 20 == 0:\n",
        "        print(f\"Epoch: {epoch} | Loss: {loss} | Test loss: {test_loss}\")"
      ],
      "metadata": {
        "colab": {
          "base_uri": "https://localhost:8080/"
        },
        "id": "AAfMdbvF_nPW",
        "outputId": "5e737f5a-34e5-41d5-d972-98c784d1cdbc"
      },
      "execution_count": 12,
      "outputs": [
        {
          "output_type": "stream",
          "name": "stdout",
          "text": [
            "Epoch: 0 | Loss: 0.12297309935092926 | Test loss: 0.337055504322052\n",
            "Epoch: 20 | Loss: 0.08546926081180573 | Test loss: 0.22873148322105408\n",
            "Epoch: 40 | Loss: 0.07729332149028778 | Test loss: 0.19146773219108582\n",
            "Epoch: 60 | Loss: 0.07259728014469147 | Test loss: 0.1760939359664917\n",
            "Epoch: 80 | Loss: 0.06809765845537186 | Test loss: 0.1611744910478592\n",
            "Epoch: 100 | Loss: 0.06391005218029022 | Test loss: 0.15369932353496552\n",
            "Epoch: 120 | Loss: 0.05995853617787361 | Test loss: 0.14131172001361847\n",
            "Epoch: 140 | Loss: 0.056757472455501556 | Test loss: 0.13039395213127136\n",
            "Epoch: 160 | Loss: 0.05404007434844971 | Test loss: 0.1191910058259964\n",
            "Epoch: 180 | Loss: 0.051461588591337204 | Test loss: 0.10838651657104492\n",
            "Epoch: 200 | Loss: 0.04911171272397041 | Test loss: 0.09829406440258026\n",
            "Epoch: 220 | Loss: 0.04742380231618881 | Test loss: 0.08815916627645493\n",
            "Epoch: 240 | Loss: 0.045945774763822556 | Test loss: 0.0793670117855072\n",
            "Epoch: 260 | Loss: 0.04451976343989372 | Test loss: 0.07196703553199768\n",
            "Epoch: 280 | Loss: 0.04346315190196037 | Test loss: 0.06622061133384705\n",
            "Epoch: 300 | Loss: 0.042451824992895126 | Test loss: 0.05805828422307968\n",
            "Epoch: 320 | Loss: 0.04170593246817589 | Test loss: 0.054161589592695236\n",
            "Epoch: 340 | Loss: 0.040992334485054016 | Test loss: 0.05090191215276718\n",
            "Epoch: 360 | Loss: 0.04036793112754822 | Test loss: 0.04659562557935715\n",
            "Epoch: 380 | Loss: 0.03986509144306183 | Test loss: 0.04481855034828186\n"
          ]
        }
      ]
    },
    {
      "cell_type": "code",
      "source": [
        "model.state_dict()"
      ],
      "metadata": {
        "colab": {
          "base_uri": "https://localhost:8080/"
        },
        "id": "Tp2SrCglBTFG",
        "outputId": "163c646b-a6db-43ab-96c8-22dd873971a9"
      },
      "execution_count": 13,
      "outputs": [
        {
          "output_type": "execute_result",
          "data": {
            "text/plain": [
              "OrderedDict([('linear_layer.weight', tensor([[0.3482]])),\n",
              "             ('linear_layer.bias', tensor([0.8828]))])"
            ]
          },
          "metadata": {},
          "execution_count": 13
        }
      ]
    },
    {
      "cell_type": "markdown",
      "source": [
        "# Exercise 4\n",
        "Make predictions with the trained model on the test data.\n",
        "* Visualize these predictions against the original training and testing data (**note**: you may need to make sure the predictions are not on the GPU if you want to use non-CUDA-enabled libraries such as matplotlib to plot)."
      ],
      "metadata": {
        "id": "ghVjlrdxA6zz"
      }
    },
    {
      "cell_type": "code",
      "source": [
        "# Turn model into evaluaion mode\n",
        "model. eval()\n",
        "\n",
        "# Make predictions on the test data\n",
        "with torch.inference_mode():\n",
        "    y_preds = model(X_test)"
      ],
      "metadata": {
        "id": "OaOTf2OUBPeg"
      },
      "execution_count": 14,
      "outputs": []
    },
    {
      "cell_type": "code",
      "source": [
        "# Plot datapoints\n",
        "plt.figure(figsize=(7, 4))\n",
        "plt.scatter(X_train, y_train, c=\"b\", s=4, label=\"Training data\")\n",
        "plt.scatter(X_test, y_test, c=\"g\", s=4, label=\"Testing data\")\n",
        "plt.scatter(X_test, y_preds, c=\"r\", s=4, label=\"Predictions\")\n",
        "plt.legend();"
      ],
      "metadata": {
        "colab": {
          "base_uri": "https://localhost:8080/",
          "height": 372
        },
        "id": "KlrJtjpWBilk",
        "outputId": "9473b58a-08fb-432a-eea6-c815400f9385"
      },
      "execution_count": 15,
      "outputs": [
        {
          "output_type": "display_data",
          "data": {
            "text/plain": [
              "<Figure size 700x400 with 1 Axes>"
            ],
            "image/png": "[encoded data removed]"
          },
          "metadata": {}
        }
      ]
    },
    {
      "cell_type": "markdown",
      "source": [
        "# Exercise 5\n",
        "Save your trained model's `state_dict()` to file\n",
        "* Create a new instance of your model class you made in 2. And load in the `state_dict` you just saved to it.\n",
        "* Perform predictions on your test data with the loaded model and confirm they match the original model predictions from 4."
      ],
      "metadata": {
        "id": "pdBIbulXUZBQ"
      }
    },
    {
      "cell_type": "code",
      "source": [
        "from pathlib import Path\n",
        "\n",
        "# 1. Create model dictory\n",
        "MODEL_PATH = Path(\"models\")\n",
        "MODEL_PATH.mkdir(parents=True, exist_ok=True)\n",
        "\n",
        "# 2. Create model save path\n",
        "MODEL_NAME = \"01_pytorch_workflow_exercise_model.pth\"\n",
        "MODEL_SAVE_PATH = MODEL_PATH / MODEL_NAME\n",
        "\n",
        "# 3. Save the model state dict\n",
        "print(f\"Saving model to: {MODEL_SAVE_PATH}\")\n",
        "torch.save(obj=model.state_dict(), f=MODEL_SAVE_PATH)"
      ],
      "metadata": {
        "colab": {
          "base_uri": "https://localhost:8080/"
        },
        "id": "HUMU2zFcWRQb",
        "outputId": "90396c2d-e4c7-4a4d-fae5-0f9eea535305"
      },
      "execution_count": 16,
      "outputs": [
        {
          "output_type": "stream",
          "name": "stdout",
          "text": [
            "Saving model to: models/01_pytorch_workflow_exercise_model.pth\n"
          ]
        }
      ]
    },
    {
      "cell_type": "code",
      "source": [
        "# Create a new instance of linear regression model V2\n",
        "loaded_model = LinearRegressionModel()\n",
        "\n",
        "# Load the saved model_1 state_dict\n",
        "loaded_model.load_state_dict(torch.load(MODEL_SAVE_PATH))\n",
        "\n",
        "# Put the loaded model to device\n",
        "loaded_model.to(device)"
      ],
      "metadata": {
        "colab": {
          "base_uri": "https://localhost:8080/"
        },
        "id": "LkDMCKvWWqXs",
        "outputId": "8237e3fe-52af-44d6-bbb3-d68705bfb3c3"
      },
      "execution_count": 17,
      "outputs": [
        {
          "output_type": "execute_result",
          "data": {
            "text/plain": [
              "LinearRegressionModel(\n",
              "  (linear_layer): Linear(in_features=1, out_features=1, bias=True)\n",
              ")"
            ]
          },
          "metadata": {},
          "execution_count": 17
        }
      ]
    },
    {
      "cell_type": "code",
      "source": [
        "# Evaulated loaded model\n",
        "loaded_model.eval()\n",
        "with torch.inference_mode():\n",
        "    loaded_model_1_pred = loaded_model(X_test)\n",
        "\n",
        "y_preds == loaded_model_1_pred"
      ],
      "metadata": {
        "colab": {
          "base_uri": "https://localhost:8080/"
        },
        "id": "DYV2e5jDW22b",
        "outputId": "7847c363-c348-4e03-9ff0-eb33567483c2"
      },
      "execution_count": 18,
      "outputs": [
        {
          "output_type": "execute_result",
          "data": {
            "text/plain": [
              "tensor([[True],\n",
              "        [True],\n",
              "        [True],\n",
              "        [True],\n",
              "        [True],\n",
              "        [True],\n",
              "        [True],\n",
              "        [True],\n",
              "        [True],\n",
              "        [True],\n",
              "        [True],\n",
              "        [True],\n",
              "        [True],\n",
              "        [True],\n",
              "        [True],\n",
              "        [True],\n",
              "        [True],\n",
              "        [True],\n",
              "        [True],\n",
              "        [True]])"
            ]
          },
          "metadata": {},
          "execution_count": 18
        }
      ]
    }
  ]
}